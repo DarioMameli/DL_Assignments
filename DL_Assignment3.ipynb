{
  "nbformat": 4,
  "nbformat_minor": 0,
  "metadata": {
    "colab": {
      "provenance": [],
      "toc_visible": true,
      "include_colab_link": true
    },
    "kernelspec": {
      "name": "python3",
      "display_name": "Python 3"
    },
    "language_info": {
      "name": "python"
    }
  },
  "cells": [
    {
      "cell_type": "markdown",
      "metadata": {
        "id": "view-in-github",
        "colab_type": "text"
      },
      "source": [
        "<a href=\"https://colab.research.google.com/github/DarioMameli/DL_Assignments/blob/main/DL_Assignment3.ipynb\" target=\"_parent\"><img src=\"https://colab.research.google.com/assets/colab-badge.svg\" alt=\"Open In Colab\"/></a>"
      ]
    },
    {
      "cell_type": "markdown",
      "source": [
        "# DL Assignment 3\n",
        "## Group 4\n",
        "**AUTHORS**:\n",
        "*   Dario Mameli [dario.mameli@ugent.be]\n",
        "*   Àngel Masip LLopis [angel.masipllopis@ugent.be]\n",
        "*   Michele Russo [michele.russo@ugent.be]\n",
        "\n",
        "\n",
        "\n",
        "This notebook is to be intended as both report and code.\n",
        "\n",
        "Running on google colab is suggested to make sure all required libraries and packages are present."
      ],
      "metadata": {
        "id": "FRPrCmqA3ZTQ"
      }
    },
    {
      "cell_type": "markdown",
      "source": [
        "#GitHub\n",
        "\n",
        "Let's clone the repository containing crucial elements for the code execution. In particular, the repository is structured as follows:\n",
        "- *dataset/*: contains the dataset for this program\n",
        "- *models/*: contains the weights of the best model found.\n",
        "- *parameters/*: contains the best parameters found for our model.\n",
        "- *dl_utils.py*: contains some helper functions defined in the labs."
      ],
      "metadata": {
        "id": "MIZ_-9-u6E7-"
      }
    },
    {
      "cell_type": "code",
      "source": [
        "!git clone https://github.com/dkdk22/DL_Ass3\n",
        "import sys\n",
        "# Add the repository to the path\n",
        "sys.path.insert(1, '/content/DL_Ass3/')"
      ],
      "metadata": {
        "colab": {
          "base_uri": "https://localhost:8080/"
        },
        "id": "rz0pecYrli1O",
        "outputId": "cdece6d8-b237-4d7f-8941-875409778f07"
      },
      "execution_count": 1,
      "outputs": [
        {
          "output_type": "stream",
          "name": "stdout",
          "text": [
            "Cloning into 'DL_Ass3'...\n",
            "remote: Enumerating objects: 59, done.\u001b[K\n",
            "remote: Total 59 (delta 0), reused 0 (delta 0), pack-reused 59\u001b[K\n",
            "Receiving objects: 100% (59/59), 140.32 MiB | 15.94 MiB/s, done.\n",
            "Resolving deltas: 100% (21/21), done.\n"
          ]
        }
      ]
    },
    {
      "cell_type": "markdown",
      "metadata": {
        "id": "pzIrHK0HnwaT"
      },
      "source": [
        "# Setup\n",
        "\n",
        "Firstly let's setup the workspace"
      ]
    },
    {
      "cell_type": "markdown",
      "source": [
        "## Pip Installs"
      ],
      "metadata": {
        "id": "VxmIWEgYIL00"
      }
    },
    {
      "cell_type": "markdown",
      "source": [
        "Install the packages."
      ],
      "metadata": {
        "id": "1jQ2aYz3gx25"
      }
    },
    {
      "cell_type": "code",
      "source": [
        "# Install the latest version of TensorFlow, which includes Keras (tf.keras)\n",
        "#!pip install tensorflow --upgrade\n",
        "!pip install keras --upgrade --quiet\n",
        "!pip install keras-tuner --upgrade"
      ],
      "metadata": {
        "id": "gRSbKIjfILkE",
        "outputId": "1a596a94-89d9-4e54-cd75-a2d115c3772d",
        "colab": {
          "base_uri": "https://localhost:8080/"
        }
      },
      "execution_count": 2,
      "outputs": [
        {
          "output_type": "stream",
          "name": "stdout",
          "text": [
            "\u001b[2K     \u001b[90m━━━━━━━━━━━━━━━━━━━━━━━━━━━━━━━━━━━━━━━━\u001b[0m \u001b[32m1.1/1.1 MB\u001b[0m \u001b[31m8.2 MB/s\u001b[0m eta \u001b[36m0:00:00\u001b[0m\n",
            "\u001b[2K     \u001b[90m━━━━━━━━━━━━━━━━━━━━━━━━━━━━━━━━━━━━━━━━\u001b[0m \u001b[32m311.2/311.2 kB\u001b[0m \u001b[31m11.9 MB/s\u001b[0m eta \u001b[36m0:00:00\u001b[0m\n",
            "\u001b[?25h\u001b[31mERROR: pip's dependency resolver does not currently take into account all the packages that are installed. This behaviour is the source of the following dependency conflicts.\n",
            "tensorflow 2.15.0 requires keras<2.16,>=2.15.0, but you have keras 3.1.1 which is incompatible.\u001b[0m\u001b[31m\n",
            "\u001b[0mCollecting keras-tuner\n",
            "  Downloading keras_tuner-1.4.7-py3-none-any.whl (129 kB)\n",
            "\u001b[2K     \u001b[90m━━━━━━━━━━━━━━━━━━━━━━━━━━━━━━━━━━━━━━━━\u001b[0m \u001b[32m129.1/129.1 kB\u001b[0m \u001b[31m1.3 MB/s\u001b[0m eta \u001b[36m0:00:00\u001b[0m\n",
            "\u001b[?25hRequirement already satisfied: keras in /usr/local/lib/python3.10/dist-packages (from keras-tuner) (3.1.1)\n",
            "Requirement already satisfied: packaging in /usr/local/lib/python3.10/dist-packages (from keras-tuner) (24.0)\n",
            "Requirement already satisfied: requests in /usr/local/lib/python3.10/dist-packages (from keras-tuner) (2.31.0)\n",
            "Collecting kt-legacy (from keras-tuner)\n",
            "  Downloading kt_legacy-1.0.5-py3-none-any.whl (9.6 kB)\n",
            "Requirement already satisfied: absl-py in /usr/local/lib/python3.10/dist-packages (from keras->keras-tuner) (1.4.0)\n",
            "Requirement already satisfied: numpy in /usr/local/lib/python3.10/dist-packages (from keras->keras-tuner) (1.25.2)\n",
            "Requirement already satisfied: rich in /usr/local/lib/python3.10/dist-packages (from keras->keras-tuner) (13.7.1)\n",
            "Requirement already satisfied: namex in /usr/local/lib/python3.10/dist-packages (from keras->keras-tuner) (0.0.7)\n",
            "Requirement already satisfied: h5py in /usr/local/lib/python3.10/dist-packages (from keras->keras-tuner) (3.9.0)\n",
            "Requirement already satisfied: optree in /usr/local/lib/python3.10/dist-packages (from keras->keras-tuner) (0.11.0)\n",
            "Requirement already satisfied: ml-dtypes in /usr/local/lib/python3.10/dist-packages (from keras->keras-tuner) (0.2.0)\n",
            "Requirement already satisfied: charset-normalizer<4,>=2 in /usr/local/lib/python3.10/dist-packages (from requests->keras-tuner) (3.3.2)\n",
            "Requirement already satisfied: idna<4,>=2.5 in /usr/local/lib/python3.10/dist-packages (from requests->keras-tuner) (3.6)\n",
            "Requirement already satisfied: urllib3<3,>=1.21.1 in /usr/local/lib/python3.10/dist-packages (from requests->keras-tuner) (2.0.7)\n",
            "Requirement already satisfied: certifi>=2017.4.17 in /usr/local/lib/python3.10/dist-packages (from requests->keras-tuner) (2024.2.2)\n",
            "Requirement already satisfied: typing-extensions>=4.0.0 in /usr/local/lib/python3.10/dist-packages (from optree->keras->keras-tuner) (4.10.0)\n",
            "Requirement already satisfied: markdown-it-py>=2.2.0 in /usr/local/lib/python3.10/dist-packages (from rich->keras->keras-tuner) (3.0.0)\n",
            "Requirement already satisfied: pygments<3.0.0,>=2.13.0 in /usr/local/lib/python3.10/dist-packages (from rich->keras->keras-tuner) (2.16.1)\n",
            "Requirement already satisfied: mdurl~=0.1 in /usr/local/lib/python3.10/dist-packages (from markdown-it-py>=2.2.0->rich->keras->keras-tuner) (0.1.2)\n",
            "Installing collected packages: kt-legacy, keras-tuner\n",
            "Successfully installed keras-tuner-1.4.7 kt-legacy-1.0.5\n"
          ]
        }
      ]
    },
    {
      "cell_type": "markdown",
      "metadata": {
        "id": "fiSBqqDaizpT"
      },
      "source": [
        "## Packages\n",
        "\n",
        "Import packages and functions."
      ]
    },
    {
      "cell_type": "code",
      "execution_count": 3,
      "metadata": {
        "id": "_tndfUaBvYFN"
      },
      "outputs": [],
      "source": [
        "from dl_utils import plot_history\n",
        "import matplotlib.pyplot as plt\n",
        "import numpy as np\n",
        "import tensorflow as tf\n",
        "from sklearn.model_selection import train_test_split\n",
        "from sklearn.preprocessing import StandardScaler\n",
        "import keras\n",
        "from keras import regularizers\n",
        "import matplotlib.gridspec as gridspec\n",
        "from keras.datasets import fashion_mnist\n",
        "from keras.models import Sequential\n",
        "from keras.utils import to_categorical\n",
        "from tensorflow.keras.preprocessing.text import Tokenizer\n",
        "from tensorflow.keras.preprocessing.sequence import pad_sequences\n",
        "from keras.models import load_model\n",
        "import nltk\n",
        "from nltk.corpus import stopwords\n",
        "import keras_tuner as kt\n",
        "from keras import backend as backend\n",
        "from keras import layers\n",
        "from keras.layers import (\n",
        "    Input,\n",
        "    Activation,\n",
        "    BatchNormalization,\n",
        "    Conv2D,\n",
        "    Conv2DTranspose,\n",
        "    Dense,\n",
        "    Dropout,\n",
        "    Flatten,\n",
        "    GlobalAveragePooling2D,\n",
        "    MaxPooling2D,\n",
        "    UpSampling2D,\n",
        "    Embedding,\n",
        "    LSTM,\n",
        "    GRU,\n",
        "    Bidirectional\n",
        ")\n",
        "from keras.optimizers import SGD, Adam\n",
        "\n",
        "import matplotlib.pyplot as plt\n",
        "from sklearn.preprocessing import MinMaxScaler\n",
        "from sklearn.metrics import accuracy_score\n",
        "import json\n",
        "import zipfile\n",
        "import numpy as np\n",
        "from sklearn.model_selection import train_test_split\n",
        "from sklearn.metrics import confusion_matrix, classification_report, f1_score, precision_score, recall_score\n",
        "from sklearn.metrics import precision_recall_curve, average_precision_score\n",
        "import gdown\n",
        "import zipfile\n",
        "import os\n",
        "from keras import Model, ops\n",
        "import joblib\n",
        "from sklearn.metrics import mean_squared_error, mean_absolute_error, explained_variance_score\n",
        "from sklearn.ensemble import GradientBoostingClassifier\n",
        "from nltk.stem import PorterStemmer\n",
        "from PIL import Image\n",
        "import numpy as np\n",
        "from sklearn.preprocessing import LabelEncoder\n",
        "from sklearn.model_selection import train_test_split\n",
        "import tensorflow as tf\n",
        "import keras.applications as app\n",
        "from sklearn.preprocessing import StandardScaler\n",
        "import gc\n",
        "\n",
        "import zipfile\n",
        "from skimage.segmentation import mark_boundaries\n",
        "from sklearn.preprocessing import minmax_scale\n",
        "import pickle\n",
        "from imblearn.keras import BalancedBatchGenerator\n",
        "from sklearn.decomposition import PCA\n",
        "import tensorflow.data as tf_data\n",
        "import seaborn as sns\n",
        "\n",
        "import warnings\n",
        "warnings.filterwarnings('ignore')"
      ]
    },
    {
      "cell_type": "markdown",
      "source": [
        "## Global variables"
      ],
      "metadata": {
        "id": "zg_oAPilI2CG"
      }
    },
    {
      "cell_type": "markdown",
      "source": [
        "These variables control the flow of execution of the code."
      ],
      "metadata": {
        "id": "hQGE-7Rx9Zh0"
      }
    },
    {
      "cell_type": "code",
      "source": [
        "SEED = 42  # For code reproducibility\n",
        "\n",
        "BATCH_SIZE = 256  # Batch size for training and for vectorizer\n",
        "\n",
        "TRAIN_BASELINE = True\n",
        "# True: train the baseline model from scratch\n",
        "# False: load the model from the github repo\n",
        "\n",
        "SEARCH_PARAMETERS = False\n",
        "# True: search the parameters for our model\n",
        "# False: load the parameters for our model from the github repo\n",
        "\n",
        "\n",
        "TRAIN_MODEL = True\n",
        "# True: train our model\n",
        "# False: load our model from the github repo"
      ],
      "metadata": {
        "id": "PCYSJedrI4nW"
      },
      "execution_count": 4,
      "outputs": []
    },
    {
      "cell_type": "markdown",
      "metadata": {
        "id": "rsTb0qM5n7gE"
      },
      "source": [
        "# Load data"
      ]
    },
    {
      "cell_type": "markdown",
      "metadata": {
        "id": "vGwus8LWjP33"
      },
      "source": [
        "Load the dataset from the github repository.\n",
        "The data is structured as follows:\n",
        "- $X$ = { $x$ | $x$ is a review (*string*) }\n",
        "- $y$ = { $l$ | $x$ -> $l$ ∈ ℕ}\n",
        "\n",
        "Notice that the $y$ is a form of regression target."
      ]
    },
    {
      "cell_type": "code",
      "source": [
        "zip_file_path = 'DL_Ass3/dataset/review_553850.zip'\n",
        "with zipfile.ZipFile(zip_file_path, 'r') as zip_ref: #Extract the file\n",
        "    zip_ref.extractall()\n",
        "\n",
        "with open('review_553850.json', 'r') as json_file: # Open the json file\n",
        "    data = json.load(json_file)\n",
        "\n",
        "X = []  # Samples\n",
        "y = []  # Labels\n",
        "\n",
        "for id, review in data[\"reviews\"].items():\n",
        "    review_text = review[\"review\"]\n",
        "    funny_votes = review[\"votes_funny\"]\n",
        "    if review_text:  # Filter out empty reviews\n",
        "        X.append(review_text)\n",
        "        y.append(funny_votes)\n",
        "\n",
        "X = np.array(X)\n",
        "\n",
        "print(\"Size of dataset:\", len(X))"
      ],
      "metadata": {
        "id": "pjelOlrluxfZ",
        "colab": {
          "base_uri": "https://localhost:8080/"
        },
        "outputId": "63c2e787-ce13-42aa-8296-a857c169f12f"
      },
      "execution_count": 5,
      "outputs": [
        {
          "output_type": "stream",
          "name": "stdout",
          "text": [
            "Size of dataset: 189092\n"
          ]
        }
      ]
    },
    {
      "cell_type": "markdown",
      "source": [
        "# Binary classification conversion"
      ],
      "metadata": {
        "id": "G6EMHUxbL9fr"
      }
    },
    {
      "cell_type": "markdown",
      "source": [
        "First of all let us take a look at the distribution of the labels in the dataset.\n",
        "\n",
        "REMEMBER: we are still dealing with a regression problem."
      ],
      "metadata": {
        "id": "MMAdZPSrpbM2"
      }
    },
    {
      "cell_type": "code",
      "source": [
        "# Use histogram plot\n",
        "plt.figure(figsize=(8, 6))\n",
        "plt.hist(y, bins=range(0, max(y) + 2), color='skyblue', edgecolor='black')\n",
        "plt.xlabel('Label l')\n",
        "plt.ylabel('Frequency of label l')\n",
        "plt.title('Distribution of frequencies per label')\n",
        "plt.grid(True)\n",
        "plt.xscale('log')  # Set x-axis scale to logarithmic\n",
        "plt.yscale('log')  # Set y-axis scale to logarithmic\n",
        "plt.show()"
      ],
      "metadata": {
        "colab": {
          "base_uri": "https://localhost:8080/",
          "height": 569
        },
        "id": "cYxI8MDSqFs_",
        "outputId": "ef212f2c-b499-456b-a629-5c5703b90dc2"
      },
      "execution_count": 6,
      "outputs": [
        {
          "output_type": "display_data",
          "data": {
            "text/plain": [
              "<Figure size 800x600 with 1 Axes>"
            ],
            "image/png": "[encoded data removed]"
          },
          "metadata": {}
        }
      ]
    },
    {
      "cell_type": "markdown",
      "source": [
        "From the plot we can clearly see that we are dealing with a heavily imbalanced dataset, since the distribution of the log frequencies of the labels is very skewed towards the 0. The label 0 is in fact more than 10 times more frequent than label 1 and successive ones.\n",
        "\n",
        "Solving this problem with a regression approach is therefore very hard if not infeasible.\n",
        "\n",
        "To reduce the imbalance, we are going to shift to a **BINARY CLASSIFICATION** problem, where we will compact all labels $l > 0$ under a new label $1$.\n",
        "\n",
        "The new target $y$ will therefore be represented by the following set of discrete labels:\n",
        "$$y =  \\{0, 1\\}$$\n",
        "\n",
        "The meaning is the following:\n",
        "- all reviews which have 0 votes are considered **not funny** (label $0$)\n",
        "- all reviews which have more than 0 votes are considered **funny** (label $1$)"
      ],
      "metadata": {
        "id": "avBowkvxrqPW"
      }
    },
    {
      "cell_type": "code",
      "source": [
        "# Convert the labels\n",
        "y = [0 if num == 0 else 1 for num in y]\n",
        "y = np.array(y)"
      ],
      "metadata": {
        "id": "NXPLbFV_Ji7m"
      },
      "execution_count": 7,
      "outputs": []
    },
    {
      "cell_type": "markdown",
      "source": [
        "Now let's examine the new log frequency distribution of the labels."
      ],
      "metadata": {
        "id": "9eljI0-qv0th"
      }
    },
    {
      "cell_type": "code",
      "source": [
        "def check_for_imbalance(X, y):\n",
        "  \"\"\"\n",
        "        Compute frequency of samples per binary label.\n",
        "\n",
        "        Parameters:\n",
        "          - X (numpy array): The samples\n",
        "          - y (numpy array): The labels\n",
        "\n",
        "        Returns:\n",
        "          - size_X_y0 (int): number of samples with label 0\n",
        "          - size_X_y1 (int): number of samples with label 1\n",
        "  \"\"\"\n",
        "  indices_y0 = np.where(y == 0)[0]\n",
        "  size_X_y0 = len(indices_y0)\n",
        "\n",
        "  #Indices where y equals 1\n",
        "  indices_y1 = np.where(y != 0)[0]\n",
        "  size_X_y1 = len(indices_y1)\n",
        "\n",
        "  print(\"Size of X when y = 0:\", size_X_y0)\n",
        "  print(\"Size of X when y = 1:\", size_X_y1)\n",
        "\n",
        "  return size_X_y0, size_X_y1"
      ],
      "metadata": {
        "id": "KS3p8MrjGao4"
      },
      "execution_count": 8,
      "outputs": []
    },
    {
      "cell_type": "code",
      "source": [
        "# Use histogram plot\n",
        "\n",
        "# Count the frequency of each value in y\n",
        "size_X_y0, size_X_y1 = check_for_imbalance(X, y)\n",
        "\n",
        "# Define the labels for the bars\n",
        "labels = ['0', '1']\n",
        "\n",
        "# Plot the bar chart\n",
        "plt.figure(figsize=(8, 6))\n",
        "plt.bar(labels, [size_X_y0, size_X_y1], color=['green', 'orange'])\n",
        "plt.xlabel('Binary label')\n",
        "plt.ylabel('Frequency of label')\n",
        "plt.title('Distribution of frequencies per label')\n",
        "plt.grid(True)\n",
        "plt.yscale('log')  # Set y-axis scale to logarithmic\n",
        "plt.show()"
      ],
      "metadata": {
        "colab": {
          "base_uri": "https://localhost:8080/",
          "height": 599
        },
        "id": "HQsnHfuqu1TQ",
        "outputId": "a9146d40-5b11-410d-d081-24ffffa73af1"
      },
      "execution_count": 9,
      "outputs": [
        {
          "output_type": "stream",
          "name": "stdout",
          "text": [
            "Size of X when y = 0: 182691\n",
            "Size of X when y = 1: 6401\n"
          ]
        },
        {
          "output_type": "display_data",
          "data": {
            "text/plain": [
              "<Figure size 800x600 with 1 Axes>"
            ],
            "image/png": "[encoded data removed]"
          },
          "metadata": {}
        }
      ]
    },
    {
      "cell_type": "markdown",
      "source": [
        "As expected, the distribution of the log frequency is still very imbalanced in favor of class $0$, therefore we need some strategy to balance out the dataset before proper learning can be achieved. This is because if we leave the dataset as it is, the best classifier in terms of accuracy is most likely going to be the naive classifier that always predicts the label $0$.\n",
        "\n",
        "An objection may be raised considering the idea of training based on the F1 score instead of accuracy, which is better for imbalanced datasets, however here the imbalance is so large that our attempts still resulted in unsatisfying F1 score for the minority class (see Section \"Our Model\")."
      ],
      "metadata": {
        "id": "qzjR-mv_wbiV"
      }
    },
    {
      "cell_type": "markdown",
      "source": [
        "##Data rebalance"
      ],
      "metadata": {
        "id": "dGl0DJoAmnus"
      }
    },
    {
      "cell_type": "markdown",
      "source": [
        "Our approach to deal with the imbalance is the simplest, that is, random **undersampling**. In particular, we are going to randomly drop samples from the majority class until the majority and minority classes have an equal amount of samples.\n",
        "\n",
        "This induces a high loss of data, reducing the potential learning capability of our model, which is why **oversampling** could be a better alternative. However, we still need to keep in mind that to balance the dataset we need a very large amount of data, therefore by performing oversampling we will definitely introduce a lot of noise. NLP augmentation is in fact not as straightforward as Computer Vision augmentation, as changing a word is much more impactful than changing a pixel value. Additionally, if the task is to detect funny reviews, which is intrinsically very hard due to high inter-class variance and subjectivity, the results could directly influence the labels (unwanted behavior), as changing a word in a funny review with a synonym, or rephrasing it entirely, may result in the review not being funny anymore.\n",
        "\n",
        "We therefore think that because oversampling in this case can cause our model to learn wrong representations for the labels, undersampling is the better approach, and thus it is the one we have chosen for implementation."
      ],
      "metadata": {
        "id": "q6UcXQcmTLsi"
      }
    },
    {
      "cell_type": "code",
      "source": [
        "def balance_classes(X, y):\n",
        "    \"\"\"\n",
        "        Undersample (X, y) by removing randomly samples from the majority class\n",
        "        until they match the number of samples in the minority class.\n",
        "\n",
        "        Parameters:\n",
        "          - X (numpy array): The samples\n",
        "          - y (numpy array): The labels\n",
        "\n",
        "        Returns:\n",
        "          - X[balanced_indices]: Rebalanced X\n",
        "          - y[balanced_indices]: Rebalanced y\n",
        "    \"\"\"\n",
        "    old_len = len(X)\n",
        "\n",
        "    # Find indices of examples for each class\n",
        "    indices_class_0 = np.where(y == 0)[0]\n",
        "    indices_class_1 = np.where(y == 1)[0]\n",
        "\n",
        "    # Calculate the number of examples in each class\n",
        "    num_class_0 = len(indices_class_0)\n",
        "    num_class_1 = len(indices_class_1)\n",
        "\n",
        "    # Randomly select a subset of examples from class 0 to match the number of examples in class 1\n",
        "    if num_class_0 > num_class_1:\n",
        "        # Randomly shuffle indices of class 0 examples\n",
        "        np.random.shuffle(indices_class_0)\n",
        "        # Keep only enough examples from class 0 to match the number of examples in class 1\n",
        "        indices_class_0 = indices_class_0[:num_class_1]\n",
        "    elif num_class_1 > num_class_0:\n",
        "        # Randomly shuffle indices of class 1 examples\n",
        "        np.random.shuffle(indices_class_1)\n",
        "        # Keep only enough examples from class 1 to match the number of examples in class 0\n",
        "        indices_class_1 = indices_class_1[:num_class_0]\n",
        "\n",
        "    # Combine the balanced indices\n",
        "    balanced_indices = np.concatenate([indices_class_0, indices_class_1])\n",
        "\n",
        "    # Shuffle the combined indices\n",
        "    np.random.shuffle(balanced_indices)\n",
        "\n",
        "    new_len = len(balanced_indices)\n",
        "\n",
        "    print(f\"Dataset has been reduced by {(1-new_len/old_len):.2%} for class balancing\")\n",
        "\n",
        "    # Return the balanced subset of data\n",
        "    return X[balanced_indices], y[balanced_indices]\n"
      ],
      "metadata": {
        "id": "k_VXAZk031a1"
      },
      "execution_count": 10,
      "outputs": []
    },
    {
      "cell_type": "markdown",
      "source": [
        "Perform the balancing."
      ],
      "metadata": {
        "id": "H0kXdQiRmQIw"
      }
    },
    {
      "cell_type": "code",
      "source": [
        "# Balance the dataset\n",
        "check_for_imbalance(X, y)\n",
        "\n",
        "X, y = balance_classes(X, y)\n",
        "\n",
        "check_for_imbalance(X, y)"
      ],
      "metadata": {
        "id": "Pqcn-8PL4gso",
        "colab": {
          "base_uri": "https://localhost:8080/"
        },
        "outputId": "dc0e9149-15ed-4795-dd22-99618a0fe202"
      },
      "execution_count": 11,
      "outputs": [
        {
          "output_type": "stream",
          "name": "stdout",
          "text": [
            "Size of X when y = 0: 182691\n",
            "Size of X when y = 1: 6401\n",
            "Dataset has been reduced by 93.23% for class balancing\n",
            "Size of X when y = 0: 6401\n",
            "Size of X when y = 1: 6401\n"
          ]
        },
        {
          "output_type": "execute_result",
          "data": {
            "text/plain": [
              "(6401, 6401)"
            ]
          },
          "metadata": {},
          "execution_count": 11
        }
      ]
    },
    {
      "cell_type": "markdown",
      "source": [
        "As we can see, the loss of data is very high, as the size of the new dataset is more than 10 times smaller than the original one.\n",
        "\n",
        "However it is now balanced."
      ],
      "metadata": {
        "id": "BDHw2bk-43Bm"
      }
    },
    {
      "cell_type": "markdown",
      "source": [
        "# Towards model building\n",
        "\n",
        "Let us now proceed into the preparations steps to the model building.\n",
        "\n",
        "In particular:\n",
        "1.   Build the embedding layer for the neural model.\n",
        "2.   Split the data into training, validation and test.\n",
        "\n",
        "\n"
      ],
      "metadata": {
        "id": "s3lxBqw-S63f"
      }
    },
    {
      "cell_type": "markdown",
      "source": [
        "## Embedding layer\n",
        "\n",
        "The following code and markdowns are based on our custom implementation of an example by Keras (https://keras.io/examples/nlp/pretrained_word_embeddings/)"
      ],
      "metadata": {
        "id": "oQWdP1s-6Y9c"
      }
    },
    {
      "cell_type": "markdown",
      "source": [
        "First let's define the input length of a sequence to the embedding layer as the median length of the reviews. This is ensure that half of the sequences will be padded and half truncated, for equality."
      ],
      "metadata": {
        "id": "az-k1Rr6Smt5"
      }
    },
    {
      "cell_type": "code",
      "source": [
        "# Calculate lengths of all sequences\n",
        "sequence_lengths = [len(sequence) for sequence in X]\n",
        "\n",
        "# Calculate the median length\n",
        "sorted_lengths = sorted(sequence_lengths)\n",
        "n = len(sorted_lengths)\n",
        "if n % 2 == 0:\n",
        "    median_length = (sorted_lengths[n // 2 - 1] + sorted_lengths[n // 2]) / 2\n",
        "else:\n",
        "    median_length = sorted_lengths[n // 2]\n",
        "\n",
        "# Set the length of the sequences for the models\n",
        "SEQUENCE_LENGTH = int(median_length)\n",
        "\n",
        "print(\"Median length of sequences:\", SEQUENCE_LENGTH)"
      ],
      "metadata": {
        "id": "ZRXEa47KSlg7",
        "colab": {
          "base_uri": "https://localhost:8080/"
        },
        "outputId": "2c52938c-127f-49cf-88fb-c0961d36e1d1"
      },
      "execution_count": 96,
      "outputs": [
        {
          "output_type": "stream",
          "name": "stdout",
          "text": [
            "Median length of sequences: 60\n"
          ]
        }
      ]
    },
    {
      "cell_type": "markdown",
      "source": [
        "Build a TextVectorization layer to split text into sequences of words (tokens).\n",
        "\n",
        "Build a vocabulary mapping indices to words.\n",
        "\n",
        "Build an inverted dictionary mapping words of the vocabulary to their indices.\n",
        "\n"
      ],
      "metadata": {
        "id": "-NEwlSBGwIrA"
      }
    },
    {
      "cell_type": "code",
      "source": [
        "vectorizer = keras.layers.TextVectorization(\n",
        "    max_tokens=20000,\n",
        "    output_sequence_length=SEQUENCE_LENGTH\n",
        "    )\n",
        "text_ds = tf_data.Dataset.from_tensor_slices(X).batch(BATCH_SIZE)\n",
        "vectorizer.adapt(text_ds)\n",
        "\n",
        "voc = vectorizer.get_vocabulary()\n",
        "word_index = dict(zip(voc, range(len(voc))))"
      ],
      "metadata": {
        "id": "gk4r9O5JktnN"
      },
      "execution_count": 97,
      "outputs": []
    },
    {
      "cell_type": "markdown",
      "source": [
        "We are going to use the **GloVe** pretrained embeddings for the words in order to have a good head-start in the learning phase and hopefully achieve faster convergence and better quality results.\n",
        "\n",
        "NOTE: we have the 50d embeddings in the GitHub repository already, however, for better representations, since the computational power in the end allowed us to make use of more complex representations, we are going to use the 100d ones. Due to their high memory size, they could not be uploaded on GitHub, and therefore they have to be downloaded online, causing some unfortunate delay in the code execution...\n",
        "\n",
        "Build a dictionary mapping each word (string) to their pretrained embedding representation (NumPy vector)."
      ],
      "metadata": {
        "id": "9e1-T6-2VGjN"
      }
    },
    {
      "cell_type": "code",
      "source": [
        "# Download the pretrained embeddings\n",
        "!wget https://downloads.cs.stanford.edu/nlp/data/glove.6B.zip\n",
        "!unzip -q glove.6B.zip\n",
        "\n",
        "# Use the 100d embeddings\n",
        "path_to_glove_file = \"glove.6B.100d.txt\"\n",
        "\n",
        "# Build pretrained embeddings dictionary\n",
        "embeddings_index = {}\n",
        "with open(path_to_glove_file) as f:\n",
        "    for line in f:\n",
        "        word, coefs = line.split(maxsplit=1)\n",
        "        coefs = np.fromstring(coefs, \"f\", sep=\" \")\n",
        "        embeddings_index[word] = coefs\n",
        "\n",
        "print(\"Found %s word vectors.\" % len(embeddings_index))"
      ],
      "metadata": {
        "colab": {
          "base_uri": "https://localhost:8080/"
        },
        "id": "gmZHMZefraDZ",
        "outputId": "e5f43ea0-3408-4bb2-ee2e-0ca1afaded34"
      },
      "execution_count": 98,
      "outputs": [
        {
          "output_type": "stream",
          "name": "stdout",
          "text": [
            "--2024-03-29 16:41:44--  https://downloads.cs.stanford.edu/nlp/data/glove.6B.zip\n",
            "Resolving downloads.cs.stanford.edu (downloads.cs.stanford.edu)... 171.64.64.22\n",
            "Connecting to downloads.cs.stanford.edu (downloads.cs.stanford.edu)|171.64.64.22|:443... connected.\n",
            "HTTP request sent, awaiting response... 200 OK\n",
            "Length: 862182613 (822M) [application/zip]\n",
            "Saving to: ‘glove.6B.zip.2’\n",
            "\n",
            "glove.6B.zip.2      100%[===================>] 822.24M  5.01MB/s    in 2m 39s  \n",
            "\n",
            "2024-03-29 16:44:23 (5.19 MB/s) - ‘glove.6B.zip.2’ saved [862182613/862182613]\n",
            "\n",
            "replace glove.6B.50d.txt? [y]es, [n]o, [A]ll, [N]one, [r]ename: N\n",
            "Found 400000 word vectors.\n"
          ]
        }
      ]
    },
    {
      "cell_type": "markdown",
      "source": [
        "Prepare a corresponding embedding matrix that we can use in a Keras Embedding layer, where the entry at index i is the pre-trained vector for the word of index i in our vectorizer's vocabulary."
      ],
      "metadata": {
        "id": "VXsogCpKVUXH"
      }
    },
    {
      "cell_type": "code",
      "source": [
        "num_tokens = len(voc) + 2\n",
        "embedding_dim = 100\n",
        "hits = 0\n",
        "misses = 0\n",
        "\n",
        "# Prepare embedding matrix\n",
        "embedding_matrix = np.zeros((num_tokens, embedding_dim))\n",
        "for word, i in word_index.items():\n",
        "    embedding_vector = embeddings_index.get(word)\n",
        "    if embedding_vector is not None:\n",
        "        # Words not found in embedding index will be all-zeros.\n",
        "        # This includes the representation for \"padding\" and \"OOV\"\n",
        "        embedding_matrix[i] = embedding_vector\n",
        "        hits += 1\n",
        "    else:\n",
        "        misses += 1\n",
        "print(\"Converted %d words (%d misses)\" % (hits, misses))"
      ],
      "metadata": {
        "colab": {
          "base_uri": "https://localhost:8080/"
        },
        "id": "hzcPH2Cbsh9z",
        "outputId": "cd1d002a-d305-41f6-c51a-8ec0fcdbd8f6"
      },
      "execution_count": 99,
      "outputs": [
        {
          "output_type": "stream",
          "name": "stdout",
          "text": [
            "Converted 13794 words (5591 misses)\n"
          ]
        }
      ]
    },
    {
      "cell_type": "markdown",
      "source": [
        "Notice that some words are missing their representation. In this case the embeddings will be learnt from scratch."
      ],
      "metadata": {
        "id": "LviTVKH-AOrj"
      }
    },
    {
      "cell_type": "markdown",
      "source": [
        "Build the embedding layer, with pretrained weights."
      ],
      "metadata": {
        "id": "HvraEoyEYMx-"
      }
    },
    {
      "cell_type": "code",
      "source": [
        "# Embedding layer\n",
        "embedding_layer = Embedding(\n",
        "    num_tokens,\n",
        "    embedding_dim,\n",
        "    trainable=False,\n",
        ")\n",
        "embedding_layer.build((1,))\n",
        "\n",
        "# Set pretrained weights\n",
        "embedding_layer.set_weights([embedding_matrix])"
      ],
      "metadata": {
        "id": "uJV-spG8mM_O"
      },
      "execution_count": 100,
      "outputs": []
    },
    {
      "cell_type": "markdown",
      "source": [
        "## Data split"
      ],
      "metadata": {
        "id": "JAc0S0VQYiJ0"
      }
    },
    {
      "cell_type": "markdown",
      "source": [
        "Split data into training, test and validation sets.\n",
        "\n",
        "Ensure they contain the exact amount of samples for each class, using stratify function."
      ],
      "metadata": {
        "id": "EoT3Si6vYnpC"
      }
    },
    {
      "cell_type": "code",
      "source": [
        "X_train, X_test, y_train, y_test = train_test_split(X, y, test_size=0.2, shuffle=True, random_state=SEED, stratify=y)\n",
        "X_train, X_val, y_train, y_val = train_test_split(X_train, y_train, test_size=0.2, shuffle=True,  random_state=SEED, stratify=y_train)"
      ],
      "metadata": {
        "id": "WnqU2rJYx91A"
      },
      "execution_count": 101,
      "outputs": []
    },
    {
      "cell_type": "markdown",
      "source": [
        "Check for correctness."
      ],
      "metadata": {
        "id": "lo4OZN99Yx6H"
      }
    },
    {
      "cell_type": "code",
      "source": [
        "check_for_imbalance(X_train, y_train)"
      ],
      "metadata": {
        "colab": {
          "base_uri": "https://localhost:8080/"
        },
        "id": "yCeFCa-xGsOT",
        "outputId": "9eca88a5-48d1-4303-d7f6-5d78cbe590d6"
      },
      "execution_count": 102,
      "outputs": [
        {
          "output_type": "stream",
          "name": "stdout",
          "text": [
            "Size of X when y = 0: 4096\n",
            "Size of X when y = 1: 4096\n"
          ]
        },
        {
          "output_type": "execute_result",
          "data": {
            "text/plain": [
              "(4096, 4096)"
            ]
          },
          "metadata": {},
          "execution_count": 102
        }
      ]
    },
    {
      "cell_type": "markdown",
      "source": [
        "First, convert our list-of-strings data into right-padded NumPy arrays of integer indices.\n",
        "\n"
      ],
      "metadata": {
        "id": "FKlD-XKgY1tY"
      }
    },
    {
      "cell_type": "code",
      "source": [
        "X_train = vectorizer(np.array([[s] for s in X_train])).numpy()\n",
        "X_val = vectorizer(np.array([[s] for s in X_val])).numpy()\n",
        "X_test = vectorizer(np.array([[s] for s in X_test])).numpy()\n",
        "\n",
        "y_train = np.array(y_train)\n",
        "y_val = np.array(y_val)\n",
        "y_test = np.array(y_test)\n",
        "\n",
        "print(\"Training sample 0:\", X_train[0])\n",
        "print(\"Shape of training set:\", X_train.shape)\n",
        "print(\"Validation sample 0:\", X_val[0])\n",
        "print(\"Shape of Validation set:\", X_val.shape)\n",
        "print(\"Test sample 0:\", X_test[0])\n",
        "print(\"Shape of Test set:\", X_test.shape)"
      ],
      "metadata": {
        "id": "ejoHpQfGz_qn",
        "colab": {
          "base_uri": "https://localhost:8080/"
        },
        "outputId": "7a6bafd2-4c2c-4ce6-c214-c2d1cd6695ea"
      },
      "execution_count": 103,
      "outputs": [
        {
          "output_type": "stream",
          "name": "stdout",
          "text": [
            "Training sample 0: [ 56 115  19 112 400  24   4  34 184  10   0   0   0   0   0   0   0   0\n",
            "   0   0   0   0   0   0   0   0   0   0   0   0   0   0   0   0   0   0\n",
            "   0   0   0   0   0   0   0   0   0   0   0   0   0   0   0   0   0   0\n",
            "   0   0   0   0   0   0]\n",
            "Shape of training set: (8192, 60)\n",
            "Validation sample 0: [550 440  64  34   7  38 440  11   0   0   0   0   0   0   0   0   0   0\n",
            "   0   0   0   0   0   0   0   0   0   0   0   0   0   0   0   0   0   0\n",
            "   0   0   0   0   0   0   0   0   0   0   0   0   0   0   0   0   0   0\n",
            "   0   0   0   0   0   0]\n",
            "Shape of Validation set: (2049, 60)\n",
            "Test sample 0: [  7 370  14   5   3  26  16  62 187  17  20 686   4   7  66  26  16 106\n",
            "   0   0   0   0   0   0   0   0   0   0   0   0   0   0   0   0   0   0\n",
            "   0   0   0   0   0   0   0   0   0   0   0   0   0   0   0   0   0   0\n",
            "   0   0   0   0   0   0]\n",
            "Shape of Test set: (2561, 60)\n"
          ]
        }
      ]
    },
    {
      "cell_type": "markdown",
      "source": [
        "As we can see a training / validation / test sample is a sequence of 60 indices, where each index refers to a word in the vocabulary and to a pretrained GloVe vector representation of the same word in the embedding matrix."
      ],
      "metadata": {
        "id": "bq2KLL2gBEc2"
      }
    },
    {
      "cell_type": "markdown",
      "source": [
        "# Models Building\n",
        "\n",
        "Now we get into the full model implementations."
      ],
      "metadata": {
        "id": "ATIPmZsZNe9Z"
      }
    },
    {
      "cell_type": "markdown",
      "source": [
        "## Baseline Model"
      ],
      "metadata": {
        "id": "wWvMpHYOUcRF"
      }
    },
    {
      "cell_type": "markdown",
      "source": [
        "For the baseline model we are going to use Gradient Boosting for classification.\n",
        "\n",
        "\"Gradient boosting is a machine learning ensemble technique that combines the predictions of multiple weak learners, typically decision trees, sequentially. It aims to improve overall predictive performance by optimizing the model’s weights based on the errors of previous iterations, gradually reducing prediction errors and enhancing the model’s accuracy.\"\n",
        "\n",
        "(https://www.analyticsvidhya.com/blog/2021/09/gradient-boosting-algorithm-a-complete-guide-for-beginners/)"
      ],
      "metadata": {
        "id": "8rbHUP55aiAO"
      }
    },
    {
      "cell_type": "code",
      "source": [
        "baseline_model = GradientBoostingClassifier()"
      ],
      "metadata": {
        "id": "6madG_8ENiPE"
      },
      "execution_count": 104,
      "outputs": []
    },
    {
      "cell_type": "markdown",
      "source": [
        "## Our Model"
      ],
      "metadata": {
        "id": "zLZVRqSVBapQ"
      }
    },
    {
      "cell_type": "markdown",
      "source": [
        "Define our custom **hypermodel** for searching the best hyperparameters and training the best model for the task.\n",
        "\n",
        "The **hyperparameters** chosen are the following:\n",
        "- `model_name`: dictates the kind of model we are going to use (*LSTM*, *GRU*, *CNN*, *BiLSTM*)\n",
        "- `units`: the number of units in each layer. The base value is fixed, and they may be used multiplied by a factor depending on the model and the depth. Notice that the choice is among small values, as the amount of data is limited (barely above 8000 training sequences).\n",
        "- `dropout`: the dropout rate after *Dense* layers for regularization purpose.\n",
        "- `learning_rate`: the learning rate for the Adam optimizer.\n",
        "\n",
        "The loss function is given by the tuner.\n",
        "\n",
        "All models share the same input format in the form of the vectorized sequences.\n",
        "\n",
        "An embedding layer is tasked with feeding to the core functioning layers (*LSTM*, *BiLSTM*, *GRU*, *Conv1D*) the embedded sequences.\n",
        "\n",
        "A final *Dense* layer with sigmoid activation is used to predict the class probabilities."
      ],
      "metadata": {
        "id": "nh5fEYTaUkDS"
      }
    },
    {
      "cell_type": "code",
      "source": [
        "class HyperModelBuilderBinary(kt.HyperModel):\n",
        "    def __init__(self, loss_function):\n",
        "        self.loss_function = loss_function\n",
        "\n",
        "    def build_lstm_model(self, dropout, units, learning_rate):\n",
        "\n",
        "        inputs = keras.Input(shape=(None,), dtype=\"int32\")\n",
        "        emb = embedding_layer(inputs)\n",
        "        x = LSTM(units=units, dropout=dropout, recurrent_dropout=dropout)(emb)\n",
        "        x = Dense(units, activation=\"relu\")(x)\n",
        "        x = Dropout(dropout)(x)\n",
        "        outputs = Dense(1, activation=\"sigmoid\")(x)\n",
        "        model = keras.Model(inputs, outputs)\n",
        "\n",
        "        model.compile(optimizer=keras.optimizers.Adam(learning_rate=learning_rate),\n",
        "                      loss=self.loss_function,\n",
        "                      metrics=[\"accuracy\"])\n",
        "\n",
        "        model.summary()\n",
        "\n",
        "        return model\n",
        "\n",
        "    def build_bidirectional_lstm_model(self, dropout, units, learning_rate):\n",
        "\n",
        "        inputs = keras.Input(shape=(None,), dtype=\"int32\")\n",
        "        emb = embedding_layer(inputs)\n",
        "        x = Bidirectional(LSTM(units=units, dropout=dropout,\n",
        "                               recurrent_dropout=dropout))(emb)\n",
        "        x = Dense(units, activation=\"relu\")(x)\n",
        "        x = layers.Dropout(dropout)(x)\n",
        "        outputs = Dense(1, activation=\"sigmoid\")(x)\n",
        "        model = keras.Model(inputs, outputs)\n",
        "\n",
        "        model.compile(optimizer=keras.optimizers.Adam(learning_rate=learning_rate),\n",
        "                      loss=self.loss_function,\n",
        "                      metrics=[\"accuracy\"])\n",
        "\n",
        "        model.summary()\n",
        "\n",
        "        return model\n",
        "\n",
        "\n",
        "    def build_gru_model(self, dropout, units, learning_rate):\n",
        "\n",
        "        inputs = keras.Input(shape=(None,), dtype=\"int32\")\n",
        "        emb = embedding_layer(inputs)\n",
        "        x = GRU(units=units,  dropout=dropout, recurrent_dropout=dropout)(emb)\n",
        "        x = Dense(units, activation=\"relu\")(x)\n",
        "        x = Dropout(dropout)(x)\n",
        "        outputs = Dense(1, activation=\"sigmoid\")(x)\n",
        "        model = keras.Model(inputs, outputs)\n",
        "\n",
        "        model.compile(optimizer=keras.optimizers.Adam(learning_rate=learning_rate),\n",
        "                      loss=self.loss_function,\n",
        "                      metrics=[\"accuracy\"])\n",
        "\n",
        "        model.summary()\n",
        "\n",
        "        return model\n",
        "\n",
        "    def build_cnn_model(self, dropout, units, learning_rate):\n",
        "\n",
        "        inputs = keras.Input(shape=(None,), dtype=\"int32\")\n",
        "        emb = embedding_layer(inputs)\n",
        "        x = layers.Conv1D(units*3, 5, activation=\"relu\", strides=1, padding=\"same\")(emb)\n",
        "        x = layers.MaxPooling1D(3)(x)\n",
        "        x = layers.Conv1D(units*2, 3, activation=\"relu\", strides=1, padding=\"same\")(x)\n",
        "        x = layers.MaxPooling1D(3)(x)\n",
        "        x = layers.Conv1D(units, 3, activation=\"relu\", strides=1, padding=\"same\")(x)\n",
        "        x = layers.GlobalMaxPooling1D()(x)\n",
        "        x = layers.Dense(units, activation=\"relu\")(x)\n",
        "        x = layers.Dropout(dropout)(x)\n",
        "        preds = layers.Dense(1, activation=\"sigmoid\")(x)\n",
        "        model = keras.Model(inputs, preds)\n",
        "\n",
        "        model.compile(optimizer=keras.optimizers.Adam(\n",
        "            learning_rate=learning_rate),\n",
        "            loss=self.loss_function,\n",
        "            metrics=[\"accuracy\"])\n",
        "\n",
        "        model.summary()\n",
        "\n",
        "        return model\n",
        "\n",
        "    def build_model(self,hp):\n",
        "        model_name = hp.Choice('model_name', values=['LSTM', 'GRU', 'CNN', 'BidirectionalLSTM'])\n",
        "        dropout = hp.Float('dropout', min_value=0.0, max_value=0.6, step=0.2)\n",
        "        units = hp.Int('units', min_value=16, max_value=80, step=16)\n",
        "        learning_rate = hp.Choice('learning_rate', values=[1e-2, 1e-3, 1e-4])\n",
        "\n",
        "        if model_name == 'LSTM':\n",
        "            return self.build_lstm_model(dropout, units, learning_rate)\n",
        "        elif model_name == 'BidirectionalLSTM':\n",
        "            return self.build_bidirectional_lstm_model(dropout, units, learning_rate)\n",
        "        elif model_name == 'GRU':\n",
        "            return self.build_gru_model(dropout, units, learning_rate)\n",
        "        elif model_name == 'CNN':\n",
        "            return self.build_cnn_model(dropout, units, learning_rate)\n",
        "\n",
        "\n",
        "    def fit(self, hp, model, *args, **kwargs):\n",
        "        return model.fit(X_train, y_train, validation_data=(X_val, y_val), shuffle=True, random_state=SEED)"
      ],
      "metadata": {
        "id": "UeCOUYOMshVU"
      },
      "execution_count": 105,
      "outputs": []
    },
    {
      "cell_type": "markdown",
      "source": [
        "Define the loss function `loss` as Binary Cross Entropy. For the record, attempts were made to use a focal loss such as Binary Focal Cross Entropy on the imbalanced dataset. However, poor results were still obtained after assigning weights inversely proportional to the number of samples in each class, i.e., the F1 score of class $1$ was still 0, meaning we had performances comparable to the naive classifier.\n",
        "\n",
        "Define the hypertuner object `tuner`, based on the **Bayesian Optimization** algorithm, which is able to overcome the limitations of random sampling based techniques by taking into account the history of the tried combinations, and then through a gaussian process estimate the next best hyperparameters.\n",
        "\n",
        "Additionaly, as in the previous assignment, with this algorithm we are able to limit the number of trials `max_trials` to just 10 for faster execution."
      ],
      "metadata": {
        "id": "oZ0yxNcgUjX_"
      }
    },
    {
      "cell_type": "code",
      "source": [
        "# Loss function\n",
        "loss = keras.losses.BinaryCrossentropy(\n",
        "      from_logits=False,\n",
        "      label_smoothing=0.0,\n",
        "      axis=-1,\n",
        "      reduction=\"sum_over_batch_size\",\n",
        "      name=\"binary_crossentropy\",\n",
        ")\n",
        "\n",
        "# Initialize tuner\n",
        "hypermodel_builder = HyperModelBuilderBinary(loss_function=loss)\n",
        "\n",
        "tuner = kt.BayesianOptimization(hypermodel_builder.build_model,\n",
        "                        objective='val_loss',\n",
        "                        max_trials=10,\n",
        "                        executions_per_trial=1, # The documentation says that makes things faster\n",
        "                        overwrite=True,\n",
        "                        max_consecutive_failed_trials=5,\n",
        "                        directory='tuner_results',\n",
        "                        project_name='classification_tuning')\n",
        "\n",
        "# Summarize the search space\n",
        "tuner.search_space_summary()"
      ],
      "metadata": {
        "id": "MILTGt3fBQUq",
        "colab": {
          "base_uri": "https://localhost:8080/",
          "height": 495
        },
        "outputId": "20668607-0749-4456-c2cd-3dc9a2bf9d7b"
      },
      "execution_count": 106,
      "outputs": [
        {
          "output_type": "display_data",
          "data": {
            "text/plain": [
              "\u001b[1mModel: \"functional_5\"\u001b[0m\n"
            ],
            "text/html": [
              "<pre style=\"white-space:pre;overflow-x:auto;line-height:normal;font-family:Menlo,'DejaVu Sans Mono',consolas,'Courier New',monospace\"><span style=\"font-weight: bold\">Model: \"functional_5\"</span>\n",
              "</pre>\n"
            ]
          },
          "metadata": {}
        },
        {
          "output_type": "display_data",
          "data": {
            "text/plain": [
              "┏━━━━━━━━━━━━━━━━━━━━━━━━━━━━━━━━━━━━━━┳━━━━━━━━━━━━━━━━━━━━━━━━━━━━━┳━━━━━━━━━━━━━━━━━┓\n",
              "┃\u001b[1m \u001b[0m\u001b[1mLayer (type)                        \u001b[0m\u001b[1m \u001b[0m┃\u001b[1m \u001b[0m\u001b[1mOutput Shape               \u001b[0m\u001b[1m \u001b[0m┃\u001b[1m \u001b[0m\u001b[1m        Param #\u001b[0m\u001b[1m \u001b[0m┃\n",
              "┡━━━━━━━━━━━━━━━━━━━━━━━━━━━━━━━━━━━━━━╇━━━━━━━━━━━━━━━━━━━━━━━━━━━━━╇━━━━━━━━━━━━━━━━━┩\n",
              "│ input_layer_2 (\u001b[38;5;33mInputLayer\u001b[0m)           │ (\u001b[38;5;45mNone\u001b[0m, \u001b[38;5;45mNone\u001b[0m)                │               \u001b[38;5;34m0\u001b[0m │\n",
              "├──────────────────────────────────────┼─────────────────────────────┼─────────────────┤\n",
              "│ embedding (\u001b[38;5;33mEmbedding\u001b[0m)                │ (\u001b[38;5;45mNone\u001b[0m, \u001b[38;5;45mNone\u001b[0m, \u001b[38;5;34m100\u001b[0m)           │       \u001b[38;5;34m1,938,700\u001b[0m │\n",
              "├──────────────────────────────────────┼─────────────────────────────┼─────────────────┤\n",
              "│ lstm_2 (\u001b[38;5;33mLSTM\u001b[0m)                        │ (\u001b[38;5;45mNone\u001b[0m, \u001b[38;5;34m16\u001b[0m)                  │           \u001b[38;5;34m7,488\u001b[0m │\n",
              "├──────────────────────────────────────┼─────────────────────────────┼─────────────────┤\n",
              "│ dense_4 (\u001b[38;5;33mDense\u001b[0m)                      │ (\u001b[38;5;45mNone\u001b[0m, \u001b[38;5;34m16\u001b[0m)                  │             \u001b[38;5;34m272\u001b[0m │\n",
              "├──────────────────────────────────────┼─────────────────────────────┼─────────────────┤\n",
              "│ dropout_2 (\u001b[38;5;33mDropout\u001b[0m)                  │ (\u001b[38;5;45mNone\u001b[0m, \u001b[38;5;34m16\u001b[0m)                  │               \u001b[38;5;34m0\u001b[0m │\n",
              "├──────────────────────────────────────┼─────────────────────────────┼─────────────────┤\n",
              "│ dense_5 (\u001b[38;5;33mDense\u001b[0m)                      │ (\u001b[38;5;45mNone\u001b[0m, \u001b[38;5;34m1\u001b[0m)                   │              \u001b[38;5;34m17\u001b[0m │\n",
              "└──────────────────────────────────────┴─────────────────────────────┴─────────────────┘\n"
            ],
            "text/html": [
              "<pre style=\"white-space:pre;overflow-x:auto;line-height:normal;font-family:Menlo,'DejaVu Sans Mono',consolas,'Courier New',monospace\">┏━━━━━━━━━━━━━━━━━━━━━━━━━━━━━━━━━━━━━━┳━━━━━━━━━━━━━━━━━━━━━━━━━━━━━┳━━━━━━━━━━━━━━━━━┓\n",
              "┃<span style=\"font-weight: bold\"> Layer (type)                         </span>┃<span style=\"font-weight: bold\"> Output Shape                </span>┃<span style=\"font-weight: bold\">         Param # </span>┃\n",
              "┡━━━━━━━━━━━━━━━━━━━━━━━━━━━━━━━━━━━━━━╇━━━━━━━━━━━━━━━━━━━━━━━━━━━━━╇━━━━━━━━━━━━━━━━━┩\n",
              "│ input_layer_2 (<span style=\"color: #0087ff; text-decoration-color: #0087ff\">InputLayer</span>)           │ (<span style=\"color: #00d7ff; text-decoration-color: #00d7ff\">None</span>, <span style=\"color: #00d7ff; text-decoration-color: #00d7ff\">None</span>)                │               <span style=\"color: #00af00; text-decoration-color: #00af00\">0</span> │\n",
              "├──────────────────────────────────────┼─────────────────────────────┼─────────────────┤\n",
              "│ embedding (<span style=\"color: #0087ff; text-decoration-color: #0087ff\">Embedding</span>)                │ (<span style=\"color: #00d7ff; text-decoration-color: #00d7ff\">None</span>, <span style=\"color: #00d7ff; text-decoration-color: #00d7ff\">None</span>, <span style=\"color: #00af00; text-decoration-color: #00af00\">100</span>)           │       <span style=\"color: #00af00; text-decoration-color: #00af00\">1,938,700</span> │\n",
              "├──────────────────────────────────────┼─────────────────────────────┼─────────────────┤\n",
              "│ lstm_2 (<span style=\"color: #0087ff; text-decoration-color: #0087ff\">LSTM</span>)                        │ (<span style=\"color: #00d7ff; text-decoration-color: #00d7ff\">None</span>, <span style=\"color: #00af00; text-decoration-color: #00af00\">16</span>)                  │           <span style=\"color: #00af00; text-decoration-color: #00af00\">7,488</span> │\n",
              "├──────────────────────────────────────┼─────────────────────────────┼─────────────────┤\n",
              "│ dense_4 (<span style=\"color: #0087ff; text-decoration-color: #0087ff\">Dense</span>)                      │ (<span style=\"color: #00d7ff; text-decoration-color: #00d7ff\">None</span>, <span style=\"color: #00af00; text-decoration-color: #00af00\">16</span>)                  │             <span style=\"color: #00af00; text-decoration-color: #00af00\">272</span> │\n",
              "├──────────────────────────────────────┼─────────────────────────────┼─────────────────┤\n",
              "│ dropout_2 (<span style=\"color: #0087ff; text-decoration-color: #0087ff\">Dropout</span>)                  │ (<span style=\"color: #00d7ff; text-decoration-color: #00d7ff\">None</span>, <span style=\"color: #00af00; text-decoration-color: #00af00\">16</span>)                  │               <span style=\"color: #00af00; text-decoration-color: #00af00\">0</span> │\n",
              "├──────────────────────────────────────┼─────────────────────────────┼─────────────────┤\n",
              "│ dense_5 (<span style=\"color: #0087ff; text-decoration-color: #0087ff\">Dense</span>)                      │ (<span style=\"color: #00d7ff; text-decoration-color: #00d7ff\">None</span>, <span style=\"color: #00af00; text-decoration-color: #00af00\">1</span>)                   │              <span style=\"color: #00af00; text-decoration-color: #00af00\">17</span> │\n",
              "└──────────────────────────────────────┴─────────────────────────────┴─────────────────┘\n",
              "</pre>\n"
            ]
          },
          "metadata": {}
        },
        {
          "output_type": "display_data",
          "data": {
            "text/plain": [
              "\u001b[1m Total params: \u001b[0m\u001b[38;5;34m1,946,477\u001b[0m (7.43 MB)\n"
            ],
            "text/html": [
              "<pre style=\"white-space:pre;overflow-x:auto;line-height:normal;font-family:Menlo,'DejaVu Sans Mono',consolas,'Courier New',monospace\"><span style=\"font-weight: bold\"> Total params: </span><span style=\"color: #00af00; text-decoration-color: #00af00\">1,946,477</span> (7.43 MB)\n",
              "</pre>\n"
            ]
          },
          "metadata": {}
        },
        {
          "output_type": "display_data",
          "data": {
            "text/plain": [
              "\u001b[1m Trainable params: \u001b[0m\u001b[38;5;34m1,946,477\u001b[0m (7.43 MB)\n"
            ],
            "text/html": [
              "<pre style=\"white-space:pre;overflow-x:auto;line-height:normal;font-family:Menlo,'DejaVu Sans Mono',consolas,'Courier New',monospace\"><span style=\"font-weight: bold\"> Trainable params: </span><span style=\"color: #00af00; text-decoration-color: #00af00\">1,946,477</span> (7.43 MB)\n",
              "</pre>\n"
            ]
          },
          "metadata": {}
        },
        {
          "output_type": "display_data",
          "data": {
            "text/plain": [
              "\u001b[1m Non-trainable params: \u001b[0m\u001b[38;5;34m0\u001b[0m (0.00 B)\n"
            ],
            "text/html": [
              "<pre style=\"white-space:pre;overflow-x:auto;line-height:normal;font-family:Menlo,'DejaVu Sans Mono',consolas,'Courier New',monospace\"><span style=\"font-weight: bold\"> Non-trainable params: </span><span style=\"color: #00af00; text-decoration-color: #00af00\">0</span> (0.00 B)\n",
              "</pre>\n"
            ]
          },
          "metadata": {}
        },
        {
          "output_type": "stream",
          "name": "stdout",
          "text": [
            "Search space summary\n",
            "Default search space size: 4\n",
            "model_name (Choice)\n",
            "{'default': 'LSTM', 'conditions': [], 'values': ['LSTM', 'GRU', 'CNN', 'BidirectionalLSTM'], 'ordered': False}\n",
            "dropout (Float)\n",
            "{'default': 0.0, 'conditions': [], 'min_value': 0.0, 'max_value': 0.6, 'step': 0.2, 'sampling': 'linear'}\n",
            "units (Int)\n",
            "{'default': None, 'conditions': [], 'min_value': 16, 'max_value': 80, 'step': 16, 'sampling': 'linear'}\n",
            "learning_rate (Choice)\n",
            "{'default': 0.01, 'conditions': [], 'values': [0.01, 0.001, 0.0001], 'ordered': True}\n"
          ]
        }
      ]
    },
    {
      "cell_type": "markdown",
      "source": [
        "# Training\n",
        "\n",
        "Now we move into the training part of the baseline and our model."
      ],
      "metadata": {
        "id": "gUhGFFdL6RXu"
      }
    },
    {
      "cell_type": "markdown",
      "source": [
        "## Baseline's training"
      ],
      "metadata": {
        "id": "RH7pdrJQVTx3"
      }
    },
    {
      "cell_type": "markdown",
      "source": [
        "Here we train the baseline if specified, or we load the already trained model."
      ],
      "metadata": {
        "id": "1iunL5qSE0V_"
      }
    },
    {
      "cell_type": "code",
      "source": [
        "if TRAIN_BASELINE:\n",
        "  baseline_model.fit(X_train, y_train)\n",
        "  joblib.dump(baseline_model, '/content/DL_Ass3/models/baseline_model_cla.pkl')\n",
        "else:\n",
        "  baseline_model = joblib.load('/content/DL_Ass3/models/baseline_model_cla.pkl')"
      ],
      "metadata": {
        "id": "loJTWWAG8o0N"
      },
      "execution_count": 107,
      "outputs": []
    },
    {
      "cell_type": "markdown",
      "source": [
        "## Our model's training"
      ],
      "metadata": {
        "id": "2Dp8tx_lVk6d"
      }
    },
    {
      "cell_type": "markdown",
      "source": [
        "Two operations will be performed:\n",
        "- Searching for the best parameters (or loading the ones found offline).\n",
        "- Training of the model with the best parameters (or loading the best model trained offline)."
      ],
      "metadata": {
        "id": "DyuHrEh6cW7C"
      }
    },
    {
      "cell_type": "markdown",
      "source": [
        "### Search\n",
        "First of all let's search the best parameters for our model, if requested."
      ],
      "metadata": {
        "id": "M7ummyBaWifu"
      }
    },
    {
      "cell_type": "code",
      "source": [
        "if SEARCH_PARAMETERS:\n",
        "  # Early stop to prevent overfitting\n",
        "  stop_early = keras.callbacks.EarlyStopping(\n",
        "    monitor=\"val_loss\",\n",
        "    min_delta=0,\n",
        "    patience=4,\n",
        "    verbose=0,\n",
        "    mode=\"auto\",\n",
        "    baseline=None,\n",
        "    restore_best_weights=True,\n",
        "    start_from_epoch=0,\n",
        "  )\n",
        "\n",
        "  # Perform hyperparameter search\n",
        "  tuner.search(X_train, y_train, validation_data=(X_val, y_val), epochs=1, batch_size=BATCH_SIZE, callbacks=[stop_early])\n",
        "  # Get the best hyperparameters\n",
        "  best_hps = tuner.get_best_hyperparameters(num_trials=1)[0]\n",
        "  # Define the file name where you want to save the hyperparameters\n",
        "  file_name = \"/content/DL_Ass3/parameters/best_hps_cla.json\"\n",
        "  #Save the hp\n",
        "  with open(\"/content/DL_Ass3/parameters/best_hps_cla.pkl\", \"wb\") as f:\n",
        "    pickle.dump(best_hps, f)"
      ],
      "metadata": {
        "id": "NR6U7KltWhUp"
      },
      "execution_count": 108,
      "outputs": []
    },
    {
      "cell_type": "markdown",
      "source": [
        "### Train\n",
        "Here we load the best parameters found offline (equal to those online if the search has been performed), and either train the best model or load the weights of the already trained best model."
      ],
      "metadata": {
        "id": "ft2Bh-bGBYZq"
      }
    },
    {
      "cell_type": "code",
      "source": [
        "# Read the best parameters\n",
        "with open(\"/content/DL_Ass3/parameters/best_hps_cla.pkl\", \"rb\") as f:\n",
        "  best_hps = pickle.load(f)\n",
        "  print(best_hps.values)\n",
        "\n",
        "# Build the model\n",
        "best_model = tuner.hypermodel.build(best_hps)\n",
        "\n",
        "if TRAIN_MODEL:\n",
        "  # Early stop to prevent overfitting\n",
        "  stop_early = keras.callbacks.EarlyStopping(\n",
        "    monitor=\"val_loss\",\n",
        "    min_delta=0,\n",
        "    patience=5,\n",
        "    verbose=0,\n",
        "    mode=\"auto\",\n",
        "    baseline=None,\n",
        "    restore_best_weights=True,\n",
        "    start_from_epoch=3,\n",
        "  )\n",
        "\n",
        "  # Fit the model\n",
        "  history = best_model.fit(X_train, y_train, epochs=50, batch_size=BATCH_SIZE, validation_data=(X_val, y_val), callbacks=[stop_early])\n",
        "  # Save the model\n",
        "  best_model.save_weights('/content/DL_Ass3/models/best_model_cla.weights.h5')\n",
        "  plot_history(history)\n",
        "\n",
        "else:\n",
        "  # Load model\n",
        "  best_model.load_weights('/content/DL_Ass3/models/best_model_cla.weights.h5')\n"
      ],
      "metadata": {
        "id": "UlLEXS2wBVu_",
        "colab": {
          "base_uri": "https://localhost:8080/",
          "height": 991
        },
        "outputId": "cc075d6e-9f40-4132-c171-7fb7a6f90ca8"
      },
      "execution_count": 111,
      "outputs": [
        {
          "output_type": "stream",
          "name": "stdout",
          "text": [
            "{'model_name': 'BidirectionalLSTM', 'dropout': 0.2, 'units': 80, 'learning_rate': 0.001}\n"
          ]
        },
        {
          "output_type": "display_data",
          "data": {
            "text/plain": [
              "\u001b[1mModel: \"functional_9\"\u001b[0m\n"
            ],
            "text/html": [
              "<pre style=\"white-space:pre;overflow-x:auto;line-height:normal;font-family:Menlo,'DejaVu Sans Mono',consolas,'Courier New',monospace\"><span style=\"font-weight: bold\">Model: \"functional_9\"</span>\n",
              "</pre>\n"
            ]
          },
          "metadata": {}
        },
        {
          "output_type": "display_data",
          "data": {
            "text/plain": [
              "┏━━━━━━━━━━━━━━━━━━━━━━━━━━━━━━━━━━━━━━┳━━━━━━━━━━━━━━━━━━━━━━━━━━━━━┳━━━━━━━━━━━━━━━━━┓\n",
              "┃\u001b[1m \u001b[0m\u001b[1mLayer (type)                        \u001b[0m\u001b[1m \u001b[0m┃\u001b[1m \u001b[0m\u001b[1mOutput Shape               \u001b[0m\u001b[1m \u001b[0m┃\u001b[1m \u001b[0m\u001b[1m        Param #\u001b[0m\u001b[1m \u001b[0m┃\n",
              "┡━━━━━━━━━━━━━━━━━━━━━━━━━━━━━━━━━━━━━━╇━━━━━━━━━━━━━━━━━━━━━━━━━━━━━╇━━━━━━━━━━━━━━━━━┩\n",
              "│ input_layer_4 (\u001b[38;5;33mInputLayer\u001b[0m)           │ (\u001b[38;5;45mNone\u001b[0m, \u001b[38;5;45mNone\u001b[0m)                │               \u001b[38;5;34m0\u001b[0m │\n",
              "├──────────────────────────────────────┼─────────────────────────────┼─────────────────┤\n",
              "│ embedding (\u001b[38;5;33mEmbedding\u001b[0m)                │ (\u001b[38;5;45mNone\u001b[0m, \u001b[38;5;45mNone\u001b[0m, \u001b[38;5;34m100\u001b[0m)           │       \u001b[38;5;34m1,938,700\u001b[0m │\n",
              "├──────────────────────────────────────┼─────────────────────────────┼─────────────────┤\n",
              "│ bidirectional_2 (\u001b[38;5;33mBidirectional\u001b[0m)      │ (\u001b[38;5;45mNone\u001b[0m, \u001b[38;5;34m160\u001b[0m)                 │         \u001b[38;5;34m115,840\u001b[0m │\n",
              "├──────────────────────────────────────┼─────────────────────────────┼─────────────────┤\n",
              "│ dense_8 (\u001b[38;5;33mDense\u001b[0m)                      │ (\u001b[38;5;45mNone\u001b[0m, \u001b[38;5;34m80\u001b[0m)                  │          \u001b[38;5;34m12,880\u001b[0m │\n",
              "├──────────────────────────────────────┼─────────────────────────────┼─────────────────┤\n",
              "│ dropout_4 (\u001b[38;5;33mDropout\u001b[0m)                  │ (\u001b[38;5;45mNone\u001b[0m, \u001b[38;5;34m80\u001b[0m)                  │               \u001b[38;5;34m0\u001b[0m │\n",
              "├──────────────────────────────────────┼─────────────────────────────┼─────────────────┤\n",
              "│ dense_9 (\u001b[38;5;33mDense\u001b[0m)                      │ (\u001b[38;5;45mNone\u001b[0m, \u001b[38;5;34m1\u001b[0m)                   │              \u001b[38;5;34m81\u001b[0m │\n",
              "└──────────────────────────────────────┴─────────────────────────────┴─────────────────┘\n"
            ],
            "text/html": [
              "<pre style=\"white-space:pre;overflow-x:auto;line-height:normal;font-family:Menlo,'DejaVu Sans Mono',consolas,'Courier New',monospace\">┏━━━━━━━━━━━━━━━━━━━━━━━━━━━━━━━━━━━━━━┳━━━━━━━━━━━━━━━━━━━━━━━━━━━━━┳━━━━━━━━━━━━━━━━━┓\n",
              "┃<span style=\"font-weight: bold\"> Layer (type)                         </span>┃<span style=\"font-weight: bold\"> Output Shape                </span>┃<span style=\"font-weight: bold\">         Param # </span>┃\n",
              "┡━━━━━━━━━━━━━━━━━━━━━━━━━━━━━━━━━━━━━━╇━━━━━━━━━━━━━━━━━━━━━━━━━━━━━╇━━━━━━━━━━━━━━━━━┩\n",
              "│ input_layer_4 (<span style=\"color: #0087ff; text-decoration-color: #0087ff\">InputLayer</span>)           │ (<span style=\"color: #00d7ff; text-decoration-color: #00d7ff\">None</span>, <span style=\"color: #00d7ff; text-decoration-color: #00d7ff\">None</span>)                │               <span style=\"color: #00af00; text-decoration-color: #00af00\">0</span> │\n",
              "├──────────────────────────────────────┼─────────────────────────────┼─────────────────┤\n",
              "│ embedding (<span style=\"color: #0087ff; text-decoration-color: #0087ff\">Embedding</span>)                │ (<span style=\"color: #00d7ff; text-decoration-color: #00d7ff\">None</span>, <span style=\"color: #00d7ff; text-decoration-color: #00d7ff\">None</span>, <span style=\"color: #00af00; text-decoration-color: #00af00\">100</span>)           │       <span style=\"color: #00af00; text-decoration-color: #00af00\">1,938,700</span> │\n",
              "├──────────────────────────────────────┼─────────────────────────────┼─────────────────┤\n",
              "│ bidirectional_2 (<span style=\"color: #0087ff; text-decoration-color: #0087ff\">Bidirectional</span>)      │ (<span style=\"color: #00d7ff; text-decoration-color: #00d7ff\">None</span>, <span style=\"color: #00af00; text-decoration-color: #00af00\">160</span>)                 │         <span style=\"color: #00af00; text-decoration-color: #00af00\">115,840</span> │\n",
              "├──────────────────────────────────────┼─────────────────────────────┼─────────────────┤\n",
              "│ dense_8 (<span style=\"color: #0087ff; text-decoration-color: #0087ff\">Dense</span>)                      │ (<span style=\"color: #00d7ff; text-decoration-color: #00d7ff\">None</span>, <span style=\"color: #00af00; text-decoration-color: #00af00\">80</span>)                  │          <span style=\"color: #00af00; text-decoration-color: #00af00\">12,880</span> │\n",
              "├──────────────────────────────────────┼─────────────────────────────┼─────────────────┤\n",
              "│ dropout_4 (<span style=\"color: #0087ff; text-decoration-color: #0087ff\">Dropout</span>)                  │ (<span style=\"color: #00d7ff; text-decoration-color: #00d7ff\">None</span>, <span style=\"color: #00af00; text-decoration-color: #00af00\">80</span>)                  │               <span style=\"color: #00af00; text-decoration-color: #00af00\">0</span> │\n",
              "├──────────────────────────────────────┼─────────────────────────────┼─────────────────┤\n",
              "│ dense_9 (<span style=\"color: #0087ff; text-decoration-color: #0087ff\">Dense</span>)                      │ (<span style=\"color: #00d7ff; text-decoration-color: #00d7ff\">None</span>, <span style=\"color: #00af00; text-decoration-color: #00af00\">1</span>)                   │              <span style=\"color: #00af00; text-decoration-color: #00af00\">81</span> │\n",
              "└──────────────────────────────────────┴─────────────────────────────┴─────────────────┘\n",
              "</pre>\n"
            ]
          },
          "metadata": {}
        },
        {
          "output_type": "display_data",
          "data": {
            "text/plain": [
              "\u001b[1m Total params: \u001b[0m\u001b[38;5;34m2,067,501\u001b[0m (7.89 MB)\n"
            ],
            "text/html": [
              "<pre style=\"white-space:pre;overflow-x:auto;line-height:normal;font-family:Menlo,'DejaVu Sans Mono',consolas,'Courier New',monospace\"><span style=\"font-weight: bold\"> Total params: </span><span style=\"color: #00af00; text-decoration-color: #00af00\">2,067,501</span> (7.89 MB)\n",
              "</pre>\n"
            ]
          },
          "metadata": {}
        },
        {
          "output_type": "display_data",
          "data": {
            "text/plain": [
              "\u001b[1m Trainable params: \u001b[0m\u001b[38;5;34m2,067,501\u001b[0m (7.89 MB)\n"
            ],
            "text/html": [
              "<pre style=\"white-space:pre;overflow-x:auto;line-height:normal;font-family:Menlo,'DejaVu Sans Mono',consolas,'Courier New',monospace\"><span style=\"font-weight: bold\"> Trainable params: </span><span style=\"color: #00af00; text-decoration-color: #00af00\">2,067,501</span> (7.89 MB)\n",
              "</pre>\n"
            ]
          },
          "metadata": {}
        },
        {
          "output_type": "display_data",
          "data": {
            "text/plain": [
              "\u001b[1m Non-trainable params: \u001b[0m\u001b[38;5;34m0\u001b[0m (0.00 B)\n"
            ],
            "text/html": [
              "<pre style=\"white-space:pre;overflow-x:auto;line-height:normal;font-family:Menlo,'DejaVu Sans Mono',consolas,'Courier New',monospace\"><span style=\"font-weight: bold\"> Non-trainable params: </span><span style=\"color: #00af00; text-decoration-color: #00af00\">0</span> (0.00 B)\n",
              "</pre>\n"
            ]
          },
          "metadata": {}
        },
        {
          "output_type": "stream",
          "name": "stdout",
          "text": [
            "Epoch 1/50\n",
            "\u001b[1m32/32\u001b[0m \u001b[32m━━━━━━━━━━━━━━━━━━━━\u001b[0m\u001b[37m\u001b[0m \u001b[1m49s\u001b[0m 1s/step - accuracy: 0.5406 - loss: 0.6882 - val_accuracy: 0.6144 - val_loss: 0.6388\n",
            "Epoch 2/50\n",
            "\u001b[1m32/32\u001b[0m \u001b[32m━━━━━━━━━━━━━━━━━━━━\u001b[0m\u001b[37m\u001b[0m \u001b[1m29s\u001b[0m 697ms/step - accuracy: 0.6024 - loss: 0.6633 - val_accuracy: 0.6281 - val_loss: 0.6249\n",
            "Epoch 3/50\n",
            "\u001b[1m32/32\u001b[0m \u001b[32m━━━━━━━━━━━━━━━━━━━━\u001b[0m\u001b[37m\u001b[0m \u001b[1m52s\u001b[0m 989ms/step - accuracy: 0.6248 - loss: 0.6441 - val_accuracy: 0.6388 - val_loss: 0.6250\n",
            "Epoch 4/50\n",
            "\u001b[1m32/32\u001b[0m \u001b[32m━━━━━━━━━━━━━━━━━━━━\u001b[0m\u001b[37m\u001b[0m \u001b[1m36s\u001b[0m 854ms/step - accuracy: 0.6351 - loss: 0.6348 - val_accuracy: 0.6315 - val_loss: 0.6452\n",
            "Epoch 5/50\n",
            "\u001b[1m32/32\u001b[0m \u001b[32m━━━━━━━━━━━━━━━━━━━━\u001b[0m\u001b[37m\u001b[0m \u001b[1m42s\u001b[0m 877ms/step - accuracy: 0.6604 - loss: 0.6184 - val_accuracy: 0.6413 - val_loss: 0.6188\n",
            "Epoch 6/50\n",
            "\u001b[1m32/32\u001b[0m \u001b[32m━━━━━━━━━━━━━━━━━━━━\u001b[0m\u001b[37m\u001b[0m \u001b[1m17s\u001b[0m 534ms/step - accuracy: 0.6683 - loss: 0.6103 - val_accuracy: 0.6515 - val_loss: 0.6304\n",
            "Epoch 7/50\n",
            "\u001b[1m32/32\u001b[0m \u001b[32m━━━━━━━━━━━━━━━━━━━━\u001b[0m\u001b[37m\u001b[0m \u001b[1m30s\u001b[0m 829ms/step - accuracy: 0.6904 - loss: 0.5918 - val_accuracy: 0.6471 - val_loss: 0.6463\n",
            "Epoch 8/50\n",
            "\u001b[1m32/32\u001b[0m \u001b[32m━━━━━━━━━━━━━━━━━━━━\u001b[0m\u001b[37m\u001b[0m \u001b[1m22s\u001b[0m 712ms/step - accuracy: 0.7036 - loss: 0.5759 - val_accuracy: 0.6496 - val_loss: 0.6235\n",
            "Epoch 9/50\n",
            "\u001b[1m32/32\u001b[0m \u001b[32m━━━━━━━━━━━━━━━━━━━━\u001b[0m\u001b[37m\u001b[0m \u001b[1m40s\u001b[0m 676ms/step - accuracy: 0.7195 - loss: 0.5533 - val_accuracy: 0.6242 - val_loss: 0.7252\n",
            "Epoch 10/50\n",
            "\u001b[1m32/32\u001b[0m \u001b[32m━━━━━━━━━━━━━━━━━━━━\u001b[0m\u001b[37m\u001b[0m \u001b[1m40s\u001b[0m 662ms/step - accuracy: 0.7401 - loss: 0.5179 - val_accuracy: 0.6237 - val_loss: 0.7286\n"
          ]
        },
        {
          "output_type": "display_data",
          "data": {
            "text/plain": [
              "<Figure size 1000x300 with 2 Axes>"
            ],
            "image/png": "[encoded data removed]"
          },
          "metadata": {}
        }
      ]
    },
    {
      "cell_type": "markdown",
      "source": [
        "From the training curve of the losses and accuracies, we can clearly see that we have overfitting occurring, despite having relatively low complexity-wise models. This is expected due to the limited amount of data we are working on and due to the high complexity of the task. We most likely have high inter-class variance that causes the model to not generalize well on what makes a review funny or not (in terms of semantics and structure of the sequences) as training and validation sets may differ quite substantially since small."
      ],
      "metadata": {
        "id": "C4P0n8SSic74"
      }
    },
    {
      "cell_type": "markdown",
      "source": [
        "# Evaluation\n",
        "\n",
        "Now we move in the final evaluation part of the notebook, where we will examine the results and compare the two models, trying to highlight what went wrong and how to improve."
      ],
      "metadata": {
        "id": "ktHe7L0DXqpX"
      }
    },
    {
      "cell_type": "markdown",
      "source": [
        "## Helper functions\n",
        "\n",
        "Let's define some helper functions first."
      ],
      "metadata": {
        "id": "ELVDuiTS-aRT"
      }
    },
    {
      "cell_type": "markdown",
      "source": [
        "###Confusion Matrix\n",
        "If label $0$ is the *negative* and label $1$ is the *positive*, then the matrix is structured as follows:\n",
        "- top left -> TN (True Negatives)\n",
        "- top right -> FN (False Negatives)\n",
        "- bottom left -> FP (False Positives)\n",
        "- bottom right -> TP (True Positives)\n",
        "\n",
        "The normalization affects the rows, meaning it's going to display the proportions with respect to the total number of positives (2nd row) or negatives (1st row).\n",
        "Notice in particular that the normalized values on the main diagonal represent the recall for each class, by definition."
      ],
      "metadata": {
        "id": "3LYTd_TzC-qh"
      }
    },
    {
      "cell_type": "code",
      "source": [
        "def plot_confusion_matrix(y_true, y_pred, normalize=False, cmap='Blues'):\n",
        "    \"\"\"\n",
        "    Plot the confusion matrix.\n",
        "\n",
        "    Parameters:\n",
        "    - y_true (array-like): True labels.\n",
        "    - y_pred (array-like): Predicted labels.\n",
        "    - normalize (bool, optional): Whether to normalize the confusion matrix. Defaults to False.\n",
        "    - cmap (str, optional): Colormap for the heatmap. Defaults to 'Blues'.\n",
        "\n",
        "    Returns:\n",
        "    - None\n",
        "    \"\"\"\n",
        "    # Compute confusion matrix\n",
        "    cm = confusion_matrix(y_true, y_pred)\n",
        "\n",
        "    # Check if normalization is requested\n",
        "    if normalize:\n",
        "        cm = cm.astype('float') / cm.sum(axis=1)[:, np.newaxis]\n",
        "        title = 'Normalized Confusion Matrix'\n",
        "    else:\n",
        "        title = 'Confusion Matrix'\n",
        "\n",
        "    plt.figure(figsize=(8, 6))\n",
        "    sns.set(font_scale=1.2)\n",
        "\n",
        "    # Plot the confusion matrix\n",
        "    sns.heatmap(cm, annot=True, cmap=cmap, fmt=\".2f\", xticklabels=[0, 1], yticklabels=[0, 1])\n",
        "    plt.title(title)\n",
        "    plt.xlabel('Predicted labels')\n",
        "    plt.ylabel('True labels')\n",
        "    plt.show()"
      ],
      "metadata": {
        "id": "1m-D0UZipXS0"
      },
      "execution_count": 112,
      "outputs": []
    },
    {
      "cell_type": "markdown",
      "source": [
        "### Precision-recall curve\n",
        "\n",
        "The precision-recall curve is useful for evaluating the performance of a model.\n",
        "It is constructed by calculating and plotting the precision against the recall at different recall cut-off values."
      ],
      "metadata": {
        "id": "cW9PghW7QcpU"
      }
    },
    {
      "cell_type": "code",
      "source": [
        "def plot_precision_recall_curve(y_true, y_scores):\n",
        "    \"\"\"\n",
        "    Plot the Precision-Recall curve and compute the area under the curve (AP).\n",
        "\n",
        "    Parameters:\n",
        "    - y_true: Array of true labels (binary: 0 or 1)\n",
        "    - y_scores: Array of predicted probabilities for the positive class\n",
        "\n",
        "    Returns:\n",
        "    - None\n",
        "    \"\"\"\n",
        "    # Compute precision-recall pairs for different probability thresholds\n",
        "    precision, recall, thresholds = precision_recall_curve(y_true, y_scores)\n",
        "\n",
        "    # Compute average precision (area under the precision-recall curve)\n",
        "    average_precision = average_precision_score(y_true, y_scores)\n",
        "\n",
        "    # Plot Precision-Recall curve\n",
        "    plt.plot(recall, precision, color='blue', lw=2, label='Precision-Recall curve')\n",
        "    plt.xlabel('Recall')\n",
        "    plt.ylabel('Precision')\n",
        "    plt.ylim([0.0, 1.05])\n",
        "    plt.xlim([0.0, 1.0])\n",
        "    plt.title('Precision-Recall Curve (AP={0:0.2f})'.format(average_precision))\n",
        "    plt.legend(loc=\"lower left\")\n",
        "    plt.show()"
      ],
      "metadata": {
        "id": "dRW_f318EUS2"
      },
      "execution_count": 113,
      "outputs": []
    },
    {
      "cell_type": "markdown",
      "source": [
        "## Baseline evaluation"
      ],
      "metadata": {
        "id": "b0uvHuURX7zL"
      }
    },
    {
      "cell_type": "markdown",
      "source": [
        "Compute accuracy, precision, recall, and F1 score for the baseline."
      ],
      "metadata": {
        "id": "QGSUrmj8GFpu"
      }
    },
    {
      "cell_type": "code",
      "source": [
        "y_pred = baseline_model.predict(X_test)\n",
        "accuracy = accuracy_score(y_test, y_pred)\n",
        "print(\"Accuracy:\", accuracy)\n",
        "  # Print the classification report\n",
        "print(classification_report(y_test, y_pred))"
      ],
      "metadata": {
        "id": "ESdu4ceVBRoz",
        "colab": {
          "base_uri": "https://localhost:8080/"
        },
        "outputId": "8595f1a1-1580-4c3d-e863-ff7e9e2c6244"
      },
      "execution_count": 121,
      "outputs": [
        {
          "output_type": "stream",
          "name": "stdout",
          "text": [
            "Accuracy: 0.5829754002342835\n",
            "              precision    recall  f1-score   support\n",
            "\n",
            "           0       0.59      0.53      0.56      1281\n",
            "           1       0.57      0.64      0.60      1280\n",
            "\n",
            "    accuracy                           0.58      2561\n",
            "   macro avg       0.58      0.58      0.58      2561\n",
            "weighted avg       0.58      0.58      0.58      2561\n",
            "\n"
          ]
        }
      ]
    },
    {
      "cell_type": "markdown",
      "source": [
        "Overall, the accuracy of the baseline on the test set is low, as expected due to the limited amount of data: the model gains only 10% accuracy over the naive classifier.\n",
        "\n",
        "By looking at the precision and recall values, we can see the following:\n",
        "- Class 0: higher precision, lower recall: the model is more picky on this class, meaning less samples are classified but most are correct.\n",
        "- Class 1: lower precision, higher recall: as a result of being more picky on class 0, it is going to be predicting most of the samples to be of class 1, inducing most of the samples of this class to be found, but also many of these predictions to be wrong.\n",
        "\n",
        "However we can also notice how the values do not change very much with the different classes, indicating that predictions are overall balanced, but still not good."
      ],
      "metadata": {
        "id": "D7JgzvRNqJEa"
      }
    },
    {
      "cell_type": "markdown",
      "source": [
        "Let us now plot the normalized confusion matrix."
      ],
      "metadata": {
        "id": "ohks_DIosFfo"
      }
    },
    {
      "cell_type": "code",
      "source": [
        "plot_confusion_matrix(y_test, y_pred, normalize=True)"
      ],
      "metadata": {
        "colab": {
          "base_uri": "https://localhost:8080/",
          "height": 578
        },
        "id": "ch_Q0Bn6qE-k",
        "outputId": "b0d62eb1-c876-425e-cf45-1e25a345e681"
      },
      "execution_count": 115,
      "outputs": [
        {
          "output_type": "display_data",
          "data": {
            "text/plain": [
              "<Figure size 800x600 with 2 Axes>"
            ],
            "image/png": "[encoded data removed]"
          },
          "metadata": {}
        }
      ]
    },
    {
      "cell_type": "markdown",
      "source": [
        "The ideal plot will have 1s on the main diagonal (Correct predictions) and 0s in the other two squares (Wrong predictions).\n",
        "In the worst case we will have 0.5 on all entries.\n",
        "\n",
        "Our case is somewhat in the middle:\n",
        "\n",
        "- Higher confusion for class 0, as the recall is close to 0.50 (a bit more than half samples are classified correctly)\n",
        "- Lower confusion, but still not optimal for class 1, as the recall is 0.67 (2/3 of the samples of the class have been correctly classified)."
      ],
      "metadata": {
        "id": "Gmfees9IJ-HH"
      }
    },
    {
      "cell_type": "markdown",
      "source": [
        "Let us now plot the precision-recall curve"
      ],
      "metadata": {
        "id": "jTm_vImlOgYu"
      }
    },
    {
      "cell_type": "code",
      "source": [
        "plot_precision_recall_curve(y_test, y_pred)"
      ],
      "metadata": {
        "colab": {
          "base_uri": "https://localhost:8080/",
          "height": 485
        },
        "id": "8c0dgYrEOD4g",
        "outputId": "f2dd76d0-8899-4579-bf16-d5211cca474e"
      },
      "execution_count": 118,
      "outputs": [
        {
          "output_type": "display_data",
          "data": {
            "text/plain": [
              "<Figure size 640x480 with 1 Axes>"
            ],
            "image/png": "[encoded data removed]"
          },
          "metadata": {}
        }
      ]
    },
    {
      "cell_type": "markdown",
      "source": [
        "Based on the following illustration, the baseline model performs slightly better than the naive classifier.\n",
        "\n",
        "(https://medium.com/@douglaspsteen/precision-recall-curves-d32e5b290248)\n",
        "\n",
        "![prec-rec.png](data:image/png;base64,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)"
      ],
      "metadata": {
        "id": "KdDgvANlOpYe"
      }
    },
    {
      "cell_type": "markdown",
      "source": [
        "## Our model's evaluation"
      ],
      "metadata": {
        "id": "4yZ9of__YEvM"
      }
    },
    {
      "cell_type": "markdown",
      "source": [
        "Compute accuracy, precision, recall, and F1 score for our model."
      ],
      "metadata": {
        "id": "juj8RfjCGI89"
      }
    },
    {
      "cell_type": "code",
      "source": [
        "y_pred = best_model.predict(X_test)\n",
        "y_pred_binary = np.where(y_pred >= 0.5, 1, 0)\n",
        "y_pred_binary=np.squeeze(y_pred_binary)\n",
        "accuracy_best = accuracy_score(y_test, y_pred_binary)\n",
        "print(\"Accuracy:\", accuracy_best)\n",
        "  # Print the classification report\n",
        "print(classification_report(y_test, y_pred_binary))\n",
        "print(f\"Accuracy improvement over the baseline: {(accuracy_best-accuracy)*100:.2f}%\")"
      ],
      "metadata": {
        "id": "X9__0hyyNRFu",
        "colab": {
          "base_uri": "https://localhost:8080/"
        },
        "outputId": "ffcf985c-c239-4144-c7b3-62a214e96b37"
      },
      "execution_count": 126,
      "outputs": [
        {
          "output_type": "stream",
          "name": "stdout",
          "text": [
            "\u001b[1m81/81\u001b[0m \u001b[32m━━━━━━━━━━━━━━━━━━━━\u001b[0m\u001b[37m\u001b[0m \u001b[1m3s\u001b[0m 42ms/step\n",
            "Accuracy: 0.6208512299882858\n",
            "              precision    recall  f1-score   support\n",
            "\n",
            "           0       0.61      0.65      0.63      1281\n",
            "           1       0.63      0.59      0.61      1280\n",
            "\n",
            "    accuracy                           0.62      2561\n",
            "   macro avg       0.62      0.62      0.62      2561\n",
            "weighted avg       0.62      0.62      0.62      2561\n",
            "\n",
            "Accuracy improvement over the baseline: 3.79%\n"
          ]
        }
      ]
    },
    {
      "cell_type": "markdown",
      "source": [
        "Overall, the accuracy of our model on the test set is still quite low, again as expected due to the limited amount of data: the model gains only 3.79% accuracy over the baseline, which is underwhelming.\n",
        "\n",
        "By looking at the precision and recall values, we can see the opposite behavior occurring, with respect to the baseline:\n",
        "- Class 1: higher precision, lower recall: the model is more picky on this class, meaning less samples are classified but most are correct.\n",
        "- Class 0: lower precision, higher recall: as a result of being more picky on class 0, it is going to be predicting most of the samples to be of class 1.\n",
        "\n",
        "Again, though, values are not so different among the different classes, indicating that predictions are overall balanced, but still not good enough."
      ],
      "metadata": {
        "id": "NMsR0kyiR2HO"
      }
    },
    {
      "cell_type": "markdown",
      "source": [
        "Let us now plot the normalized confusion matrix."
      ],
      "metadata": {
        "id": "nn1ROxTvVIwE"
      }
    },
    {
      "cell_type": "code",
      "source": [
        "plot_confusion_matrix(y_test, y_pred_binary, normalize=True)"
      ],
      "metadata": {
        "colab": {
          "base_uri": "https://localhost:8080/",
          "height": 578
        },
        "outputId": "67317608-d806-4cfa-dc60-d7563e778d44",
        "id": "k7TtIGPlVIwE"
      },
      "execution_count": 128,
      "outputs": [
        {
          "output_type": "display_data",
          "data": {
            "text/plain": [
              "<Figure size 800x600 with 2 Axes>"
            ],
            "image/png": "[encoded data removed]"
          },
          "metadata": {}
        }
      ]
    },
    {
      "cell_type": "markdown",
      "source": [
        "Again, our case is somewhat in the middle between the ideal and worst case:\n",
        "\n",
        "- Higher confusion for class 1, as the recall is closer to 0.50 (a bit more than half samples are classified correctly)\n",
        "- Lower confusion, but still not optimal for class 0, as the recall is 0.65 (2/3 of the samples of the class have been correctly classified)."
      ],
      "metadata": {
        "id": "wE2QvrtTVIwE"
      }
    },
    {
      "cell_type": "markdown",
      "source": [
        "Let us now plot the precision-recall curve"
      ],
      "metadata": {
        "id": "zVpa9wWoVIwE"
      }
    },
    {
      "cell_type": "code",
      "source": [
        "plot_precision_recall_curve(y_test, y_pred_binary)"
      ],
      "metadata": {
        "colab": {
          "base_uri": "https://localhost:8080/",
          "height": 485
        },
        "outputId": "8b0d5b45-0c17-49c1-ba8c-b13791959f73",
        "id": "_rUB5c24VIwE"
      },
      "execution_count": 129,
      "outputs": [
        {
          "output_type": "display_data",
          "data": {
            "text/plain": [
              "<Figure size 640x480 with 1 Axes>"
            ],
            "image/png": "[encoded data removed]"
          },
          "metadata": {}
        }
      ]
    },
    {
      "cell_type": "markdown",
      "source": [
        "We can still see some improvement over the baseline on the shape of the curve, however it is still quite sub-optimal."
      ],
      "metadata": {
        "id": "xqc68hj4VIwE"
      }
    },
    {
      "cell_type": "markdown",
      "source": [
        "# Possible improvements\n",
        "\n"
      ],
      "metadata": {
        "id": "fkCNXurO-y08"
      }
    },
    {
      "cell_type": "markdown",
      "source": [
        "First of all, as we have written before, the **imbalance** in the data distribution is a big issue. Since the task is hard, we need more samples for the funny class, which can only be gathered from actual users if we pursue reliability, as humor is something only humans can tell. Once more data is gathered, more complex models may be employed. In fact, our attempts on using more complex models on this limited data resulted in even stronger overfitting, as predictable.\n",
        "\n",
        "Second of all, the structure of the **sequences** may also play a part in the model's failure. If we plot the log frequences per review length, per class, we can clearly see two things:\n",
        "1. the distribution of the log frequences overlap in the two classes, meaning that the lengths of the reviews do not influence the labels.\n",
        "2. most reviews are short. By taking the median we ensure a balanced sequence length, as half sequences will be padded and half will be truncated. However by cutting away excessively long reviews we can hypothetically still preserve most of the information while further reducing the median, and thus the input lengths to the embedding layer of the model, inducing even faster computation and more accurate learning.\n"
      ],
      "metadata": {
        "id": "bjucGjBCWltk"
      }
    },
    {
      "cell_type": "code",
      "source": [
        "# Filter sentence lengths for class 1\n",
        "class_1_lengths = [len(sentence) for i, sentence in enumerate(X) if y[i] == 1]\n",
        "\n",
        "# Filter sentence lengths for class 0\n",
        "class_0_lengths = [len(sentence) for i, sentence in enumerate(X) if y[i] == 0]\n",
        "\n",
        "# Plot histograms for both classes\n",
        "plt.figure(figsize=(12, 6))\n",
        "\n",
        "# Plot histogram for class 1\n",
        "plt.hist(class_1_lengths, bins=range(1, max(class_1_lengths) + 2), color='skyblue', edgecolor='black', alpha=0.7, label='Class 1')\n",
        "\n",
        "# Plot histogram for class 0\n",
        "plt.hist(class_0_lengths, bins=range(1, max(class_0_lengths) + 2), color='salmon', edgecolor='black', alpha=0.7, label='Class 0')\n",
        "\n",
        "plt.xlabel('Review Length')\n",
        "plt.ylabel('Frequency')\n",
        "plt.title('Distribution of Sentence Lengths by Class')\n",
        "plt.grid(True)\n",
        "plt.legend()\n",
        "plt.yscale('log')  # Set y-axis scale to logarithmic\n",
        "plt.show()\n"
      ],
      "metadata": {
        "colab": {
          "base_uri": "https://localhost:8080/",
          "height": 578
        },
        "id": "P1bHjIrEX5YS",
        "outputId": "6f45a169-8ca2-45a1-d3ee-01bc7e0b08e8"
      },
      "execution_count": 131,
      "outputs": [
        {
          "output_type": "display_data",
          "data": {
            "text/plain": [
              "<Figure size 1200x600 with 1 Axes>"
            ],
            "image/png": "[encoded data removed]"
          },
          "metadata": {}
        }
      ]
    },
    {
      "cell_type": "markdown",
      "source": [
        "\n",
        "Only once we'll have more data, a more complex model and better sentence structures may we obtain the best model."
      ],
      "metadata": {
        "id": "vHY17W-scaLM"
      }
    }
  ]
}